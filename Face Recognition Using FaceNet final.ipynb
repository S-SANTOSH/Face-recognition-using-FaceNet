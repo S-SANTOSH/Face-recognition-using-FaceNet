{
 "cells": [
  {
   "cell_type": "code",
   "execution_count": 6,
   "metadata": {},
   "outputs": [],
   "source": [
    "import numpy as np\n",
    "from PIL import Image\n",
    "import matplotlib.pyplot as plt\n",
    "from keras.models import load_model\n",
    "from sklearn.preprocessing import LabelEncoder\n",
    "from sklearn.model_selection import train_test_split\n",
    "from sklearn.preprocessing import Normalizer\n",
    "from sklearn.metrics import accuracy_score\n",
    "from sklearn.svm import SVC\n",
    "from mtcnn import MTCNN\n",
    "import cv2"
   ]
  },
  {
   "cell_type": "code",
   "execution_count": 2,
   "metadata": {},
   "outputs": [
    {
     "name": "stdout",
     "output_type": "stream",
     "text": [
      "WARNING:tensorflow:From /Users/santoshsaxena/anaconda3/lib/python3.7/site-packages/tensorflow/python/ops/resource_variable_ops.py:435: colocate_with (from tensorflow.python.framework.ops) is deprecated and will be removed in a future version.\n",
      "Instructions for updating:\n",
      "Colocations handled automatically by placer.\n"
     ]
    }
   ],
   "source": [
    "detector = MTCNN()"
   ]
  },
  {
   "cell_type": "code",
   "execution_count": 3,
   "metadata": {},
   "outputs": [],
   "source": [
    "def extract_face(filename,detector = MTCNN(),required_size=(160, 160)):\n",
    "    image = cv2.imread(filename)\n",
    "    image = cv2.cvtColor(image,cv2.COLOR_BGR2RGB)\n",
    "    pixels = np.array(image)\n",
    "    results = detector.detect_faces(pixels)\n",
    "    x1, y1, width, height = results[0]['box']\n",
    "    x1, y1 = abs(x1), abs(y1)\n",
    "    x2, y2 = x1 + width, y1 + height\n",
    "    face = pixels[y1:y2, x1:x2]\n",
    "    image = Image.fromarray(face)\n",
    "    image = image.resize(required_size)\n",
    "    face_array = np.array(image)\n",
    "    return face_array"
   ]
  },
  {
   "cell_type": "code",
   "execution_count": 4,
   "metadata": {},
   "outputs": [],
   "source": [
    "X = []\n",
    "y = []"
   ]
  },
  {
   "cell_type": "code",
   "execution_count": 7,
   "metadata": {},
   "outputs": [
    {
     "name": "stdout",
     "output_type": "stream",
     "text": [
      "Number of images loaded = 0 1 2 3 4 5 6 7 8 9 10 11 12 13 "
     ]
    }
   ],
   "source": [
    "print(\"Number of images loaded = \",end=\"\")\n",
    "for i in range(14):\n",
    "    X.append(extract_face(\"Desktop/Face Recognition/train/ben_afflek/ben_afflek\" + str(i)+\".jpg\"))\n",
    "    y.append(\"ben_afflek\")\n",
    "    print(i,end=\" \")"
   ]
  },
  {
   "cell_type": "code",
   "execution_count": 8,
   "metadata": {},
   "outputs": [
    {
     "name": "stdout",
     "output_type": "stream",
     "text": [
      "Number of images loaded = 0 1 2 3 4 5 6 7 8 9 10 11 12 13 14 15 16 "
     ]
    }
   ],
   "source": [
    "print(\"Number of images loaded = \",end=\"\")\n",
    "for i in range(17):\n",
    "    X.append(extract_face(\"Desktop/Face Recognition/train/elton_john/elton_john\" + str(i)+\".jpg\"))\n",
    "    y.append(\"elton_john\")\n",
    "    print(i,end=\" \")"
   ]
  },
  {
   "cell_type": "code",
   "execution_count": 9,
   "metadata": {},
   "outputs": [
    {
     "name": "stdout",
     "output_type": "stream",
     "text": [
      "Number of images loaded = 0 1 2 3 4 5 6 7 8 9 10 11 12 13 14 15 16 17 18 19 20 "
     ]
    }
   ],
   "source": [
    "print(\"Number of images loaded = \",end=\"\")\n",
    "for i in range(21):\n",
    "    X.append(extract_face(\"Desktop/Face Recognition/train/jerry_seinfeld/jerry_seinfeld\" + str(i)+\".jpg\"))\n",
    "    y.append(\"jerry_seinfeld\")\n",
    "    print(i,end=\" \")"
   ]
  },
  {
   "cell_type": "code",
   "execution_count": 10,
   "metadata": {},
   "outputs": [
    {
     "name": "stdout",
     "output_type": "stream",
     "text": [
      "Number of images loaded = 0 1 2 3 4 5 6 7 8 9 10 11 12 13 14 15 16 17 18 "
     ]
    }
   ],
   "source": [
    "print(\"Number of images loaded = \",end=\"\")\n",
    "for i in range(19):\n",
    "    X.append(extract_face(\"Desktop/Face Recognition/train/madonna/madonna\" + str(i)+\".jpg\"))\n",
    "    y.append(\"madonna\")\n",
    "    print(i,end=\" \")"
   ]
  },
  {
   "cell_type": "code",
   "execution_count": 11,
   "metadata": {},
   "outputs": [
    {
     "name": "stdout",
     "output_type": "stream",
     "text": [
      "Number of images loaded = 0 1 2 3 4 5 6 7 8 9 10 11 12 13 14 15 16 17 18 19 20 21 "
     ]
    }
   ],
   "source": [
    "print(\"Number of images loaded = \",end=\"\")\n",
    "for i in range(22):\n",
    "    X.append(extract_face(\"Desktop/Face Recognition/train/mindy_kaling/mindy_kaling\" + str(i)+\".jpg\"))\n",
    "    y.append(\"mindy_kaling\")\n",
    "    print(i,end=\" \")"
   ]
  },
  {
   "cell_type": "code",
   "execution_count": 13,
   "metadata": {},
   "outputs": [
    {
     "name": "stdout",
     "output_type": "stream",
     "text": [
      "Number of images loaded = 6 "
     ]
    }
   ],
   "source": [
    "print(\"Number of images loaded = \",end=\"\")\n",
    "for i in range(7):\n",
    "    X.append(extract_face(\"Desktop/Face Recognition/train/angelina jolie/angelina jolie\" + str(7)+\".jpg\"))\n",
    "    y.append(\"angelina jolie\")\n",
    "    print(i,end=\" \")"
   ]
  },
  {
   "cell_type": "code",
   "execution_count": 15,
   "metadata": {},
   "outputs": [
    {
     "name": "stdout",
     "output_type": "stream",
     "text": [
      "Number of images loaded = 0 1 2 "
     ]
    }
   ],
   "source": [
    "print(\"Number of images loaded = \",end=\"\")\n",
    "for i in range(3):\n",
    "    X.append(extract_face(\"Desktop/Face Recognition/train/elon musk/elon musk\" + str(i)+\".jpg\"))\n",
    "    y.append(\"elon musk\")\n",
    "    print(i,end=\" \")"
   ]
  },
  {
   "cell_type": "code",
   "execution_count": 17,
   "metadata": {},
   "outputs": [
    {
     "name": "stdout",
     "output_type": "stream",
     "text": [
      "Number of images loaded = 0 1 2 "
     ]
    }
   ],
   "source": [
    "print(\"Number of images loaded = \",end=\"\")\n",
    "for i in range(3):\n",
    "    X.append(extract_face(\"Desktop/Face Recognition/train/george clooney/george clooney\" + str(i)+\".jpg\"))\n",
    "    y.append(\"george clooney\")\n",
    "    print(i,end=\" \")"
   ]
  },
  {
   "cell_type": "code",
   "execution_count": 18,
   "metadata": {},
   "outputs": [
    {
     "name": "stdout",
     "output_type": "stream",
     "text": [
      "Number of images loaded = 0 1 "
     ]
    }
   ],
   "source": [
    "print(\"Number of images loaded = \",end=\"\")\n",
    "for i in range(2):\n",
    "    X.append(extract_face(\"Desktop/Face Recognition/train/jeff bezos/jeff bezos\" + str(i)+\".jpg\"))\n",
    "    y.append(\"jeff bezos\")\n",
    "    print(i,end=\" \")"
   ]
  },
  {
   "cell_type": "code",
   "execution_count": 19,
   "metadata": {},
   "outputs": [
    {
     "name": "stdout",
     "output_type": "stream",
     "text": [
      "Number of images loaded = 0 1 2 3 4 5 "
     ]
    }
   ],
   "source": [
    "print(\"Number of images loaded = \",end=\"\")\n",
    "for i in range(6):\n",
    "    X.append(extract_face(\"Desktop/Face Recognition/train/jennifer aniston/jennifer aniston\" + str(i)+\".jpg\"))\n",
    "    y.append(\"jennifer aniston\")\n",
    "    print(i,end=\" \")"
   ]
  },
  {
   "cell_type": "code",
   "execution_count": 22,
   "metadata": {},
   "outputs": [
    {
     "name": "stdout",
     "output_type": "stream",
     "text": [
      "5 "
     ]
    }
   ],
   "source": [
    "print(\"Number of images loaded = \",end=\"\")\n",
    "for i in range(6):\n",
    "    X.append(extract_face(\"Desktop/Face Recognition/train/katy perry/katy perry\" + str(i)+\".jpg\"))\n",
    "    y.append(\"katy perry\")\n",
    "    print(i,end=\" \")"
   ]
  },
  {
   "cell_type": "code",
   "execution_count": 23,
   "metadata": {},
   "outputs": [
    {
     "name": "stdout",
     "output_type": "stream",
     "text": [
      "Number of images loaded = 0 1 2 3 "
     ]
    }
   ],
   "source": [
    "print(\"Number of images loaded = \",end=\"\")\n",
    "for i in range(4):\n",
    "    X.append(extract_face(\"Desktop/Face Recognition/train/leonardo dicaprio/leonardo dicaprio\" + str(i)+\".jpg\"))\n",
    "    y.append(\"leonardo dicaprio\")\n",
    "    print(i,end=\" \")"
   ]
  },
  {
   "cell_type": "code",
   "execution_count": 24,
   "metadata": {},
   "outputs": [
    {
     "name": "stdout",
     "output_type": "stream",
     "text": [
      "Number of images loaded = 0 1 2 3 4 "
     ]
    }
   ],
   "source": [
    "print(\"Number of images loaded = \",end=\"\")\n",
    "for i in range(5):\n",
    "    X.append(extract_face(\"Desktop/Face Recognition/train/mark zuckerberg/mark zuckerberg\" + str(i)+\".jpg\"))\n",
    "    y.append(\"mark zuckerberg\")\n",
    "    print(i,end=\" \")"
   ]
  },
  {
   "cell_type": "code",
   "execution_count": 25,
   "metadata": {},
   "outputs": [
    {
     "name": "stdout",
     "output_type": "stream",
     "text": [
      "Number of images loaded = 0 1 2 3 4 "
     ]
    }
   ],
   "source": [
    "print(\"Number of images loaded = \",end=\"\")\n",
    "for i in range(5):\n",
    "    X.append(extract_face(\"Desktop/Face Recognition/train/scarlet johnson/scarlet johnson\" + str(i)+\".jpg\"))\n",
    "    y.append(\"scarlet johnson\")\n",
    "    print(i,end=\" \")"
   ]
  },
  {
   "cell_type": "code",
   "execution_count": 26,
   "metadata": {},
   "outputs": [
    {
     "name": "stdout",
     "output_type": "stream",
     "text": [
      "Number of images loaded = 0 1 "
     ]
    }
   ],
   "source": [
    "print(\"Number of images loaded = \",end=\"\")\n",
    "for i in range(2):\n",
    "    X.append(extract_face(\"Desktop/Face Recognition/train/sundar pichai/sundar pichai\" + str(i)+\".jpg\"))\n",
    "    y.append(\"sundar pichai\")\n",
    "    print(i,end=\" \")"
   ]
  },
  {
   "cell_type": "code",
   "execution_count": 27,
   "metadata": {},
   "outputs": [
    {
     "data": {
      "text/plain": [
       "136"
      ]
     },
     "execution_count": 27,
     "metadata": {},
     "output_type": "execute_result"
    }
   ],
   "source": [
    "len(X)"
   ]
  },
  {
   "cell_type": "code",
   "execution_count": 28,
   "metadata": {},
   "outputs": [],
   "source": [
    "X = np.array(X)\n",
    "y = np.array(y)"
   ]
  },
  {
   "cell_type": "code",
   "execution_count": 30,
   "metadata": {},
   "outputs": [],
   "source": [
    "np.savez_compressed('5-celebrity-faces-dataset.npz',X ,y)"
   ]
  },
  {
   "cell_type": "code",
   "execution_count": 31,
   "metadata": {},
   "outputs": [
    {
     "name": "stdout",
     "output_type": "stream",
     "text": [
      "Loaded:  (136, 160, 160, 3) (136,)\n"
     ]
    }
   ],
   "source": [
    "data = np.load('5-celebrity-faces-dataset.npz')\n",
    "trainX, trainy = data['arr_0'], data['arr_1']\n",
    "print('Loaded: ', trainX.shape, trainy.shape)"
   ]
  },
  {
   "cell_type": "code",
   "execution_count": 32,
   "metadata": {},
   "outputs": [],
   "source": [
    "def get_embedding(model, face_pixels):\n",
    "    face_pixels = face_pixels.astype('float32')\n",
    "    mean, std = face_pixels.mean(), face_pixels.std()\n",
    "    face_pixels = (face_pixels - mean) / std\n",
    "    samples = np.expand_dims(face_pixels, axis=0)\n",
    "    yhat = model.predict(samples)\n",
    "    return yhat[0]"
   ]
  },
  {
   "cell_type": "code",
   "execution_count": 34,
   "metadata": {},
   "outputs": [
    {
     "name": "stdout",
     "output_type": "stream",
     "text": [
      "Loaded Model\n",
      "(136, 128)\n"
     ]
    }
   ],
   "source": [
    "model = load_model(\"Desktop/facenet_keras.h5/model/facenet_keras.h5\")\n",
    "print('Loaded Model')\n",
    "newTrainX = list()\n",
    "for face_pixels in trainX:\n",
    "    embedding = get_embedding(model, face_pixels)\n",
    "    newTrainX.append(embedding)\n",
    "newTrainX = np.asarray(newTrainX)\n",
    "print(newTrainX.shape)\n",
    "np.savez_compressed('5-celebrity-faces-embeddings.npz', newTrainX, trainy)"
   ]
  },
  {
   "cell_type": "code",
   "execution_count": 36,
   "metadata": {},
   "outputs": [
    {
     "name": "stdout",
     "output_type": "stream",
     "text": [
      "Dataset: train=136\n",
      "Accuracy: train=99.265\n"
     ]
    }
   ],
   "source": [
    "data = np.load('5-celebrity-faces-embeddings.npz')\n",
    "trainX, trainy = data['arr_0'], data['arr_1']\n",
    "print('Dataset: train=%d' % (trainX.shape[0]))\n",
    "in_encoder = Normalizer(norm='l2')\n",
    "trainX = in_encoder.transform(trainX)\n",
    "out_encoder = LabelEncoder()\n",
    "out_encoder.fit(trainy)\n",
    "trainy = out_encoder.transform(trainy)\n",
    "model = SVC(kernel='linear', probability=True)\n",
    "model.fit(trainX, trainy)\n",
    "yhat_train = model.predict(trainX)\n",
    "score_train = accuracy_score(trainy, yhat_train)\n",
    "print('Accuracy: train=%.3f' % (score_train*100))"
   ]
  },
  {
   "cell_type": "code",
   "execution_count": null,
   "metadata": {},
   "outputs": [],
   "source": [
    "## ------------------Training done---------------------#"
   ]
  },
  {
   "cell_type": "code",
   "execution_count": null,
   "metadata": {},
   "outputs": [],
   "source": []
  },
  {
   "cell_type": "code",
   "execution_count": null,
   "metadata": {},
   "outputs": [],
   "source": []
  },
  {
   "cell_type": "code",
   "execution_count": null,
   "metadata": {},
   "outputs": [],
   "source": []
  }
 ],
 "metadata": {
  "kernelspec": {
   "display_name": "Python 3",
   "language": "python",
   "name": "python3"
  },
  "language_info": {
   "codemirror_mode": {
    "name": "ipython",
    "version": 3
   },
   "file_extension": ".py",
   "mimetype": "text/x-python",
   "name": "python",
   "nbconvert_exporter": "python",
   "pygments_lexer": "ipython3",
   "version": "3.7.1"
  }
 },
 "nbformat": 4,
 "nbformat_minor": 2
}
